{
 "cells": [
  {
   "cell_type": "code",
   "execution_count": 1,
   "outputs": [],
   "source": [
    "# https://towardsdatascience.com/snorkel-programmatically-build-training-data-in-python-712fc39649fe"
   ],
   "metadata": {
    "collapsed": false
   }
  },
  {
   "cell_type": "code",
   "execution_count": 2,
   "outputs": [
    {
     "name": "stdout",
     "output_type": "stream",
     "text": [
      "Requirement already satisfied: snorkel in c:\\users\\ballardn\\appdata\\local\\programs\\python\\python38\\lib\\site-packages (0.9.9)\n",
      "Requirement already satisfied: numpy>=1.16.5 in c:\\users\\ballardn\\appdata\\local\\programs\\python\\python38\\lib\\site-packages (from snorkel) (1.22.4)\n",
      "Requirement already satisfied: scikit-learn>=0.20.2 in c:\\users\\ballardn\\appdata\\local\\programs\\python\\python38\\lib\\site-packages (from snorkel) (1.1.2)\n",
      "Requirement already satisfied: tqdm>=4.33.0 in c:\\users\\ballardn\\appdata\\local\\programs\\python\\python38\\lib\\site-packages (from snorkel) (4.64.0)\n",
      "Requirement already satisfied: munkres>=1.0.6 in c:\\users\\ballardn\\appdata\\local\\programs\\python\\python38\\lib\\site-packages (from snorkel) (1.1.4)\n",
      "Requirement already satisfied: scipy>=1.2.0 in c:\\users\\ballardn\\appdata\\local\\programs\\python\\python38\\lib\\site-packages (from snorkel) (1.9.1)\n",
      "Requirement already satisfied: networkx>=2.2 in c:\\users\\ballardn\\appdata\\local\\programs\\python\\python38\\lib\\site-packages (from snorkel) (2.8.6)\n",
      "Requirement already satisfied: tensorboard>=2.9.1 in c:\\users\\ballardn\\appdata\\local\\programs\\python\\python38\\lib\\site-packages (from snorkel) (2.10.0)\n",
      "Requirement already satisfied: pandas>=1.0.0 in c:\\users\\ballardn\\appdata\\local\\programs\\python\\python38\\lib\\site-packages (from snorkel) (1.4.2)\n",
      "Requirement already satisfied: torch>=1.2.0 in c:\\users\\ballardn\\appdata\\local\\programs\\python\\python38\\lib\\site-packages (from snorkel) (1.12.1)\n",
      "Requirement already satisfied: pytz>=2020.1 in c:\\users\\ballardn\\appdata\\local\\programs\\python\\python38\\lib\\site-packages (from pandas>=1.0.0->snorkel) (2022.1)\n",
      "Requirement already satisfied: python-dateutil>=2.8.1 in c:\\users\\ballardn\\appdata\\local\\programs\\python\\python38\\lib\\site-packages (from pandas>=1.0.0->snorkel) (2.8.2)\n",
      "Requirement already satisfied: joblib>=1.0.0 in c:\\users\\ballardn\\appdata\\local\\programs\\python\\python38\\lib\\site-packages (from scikit-learn>=0.20.2->snorkel) (1.1.0)\n",
      "Requirement already satisfied: threadpoolctl>=2.0.0 in c:\\users\\ballardn\\appdata\\local\\programs\\python\\python38\\lib\\site-packages (from scikit-learn>=0.20.2->snorkel) (3.1.0)\n",
      "Requirement already satisfied: protobuf<3.20,>=3.9.2 in c:\\users\\ballardn\\appdata\\local\\programs\\python\\python38\\lib\\site-packages (from tensorboard>=2.9.1->snorkel) (3.19.4)\n",
      "Requirement already satisfied: setuptools>=41.0.0 in c:\\users\\ballardn\\appdata\\local\\programs\\python\\python38\\lib\\site-packages (from tensorboard>=2.9.1->snorkel) (41.2.0)\n",
      "Requirement already satisfied: wheel>=0.26 in c:\\users\\ballardn\\appdata\\local\\programs\\python\\python38\\lib\\site-packages (from tensorboard>=2.9.1->snorkel) (0.37.1)\n",
      "Requirement already satisfied: grpcio>=1.24.3 in c:\\users\\ballardn\\appdata\\local\\programs\\python\\python38\\lib\\site-packages (from tensorboard>=2.9.1->snorkel) (1.47.0)\n",
      "Requirement already satisfied: google-auth-oauthlib<0.5,>=0.4.1 in c:\\users\\ballardn\\appdata\\local\\programs\\python\\python38\\lib\\site-packages (from tensorboard>=2.9.1->snorkel) (0.4.6)\n",
      "Requirement already satisfied: tensorboard-data-server<0.7.0,>=0.6.0 in c:\\users\\ballardn\\appdata\\local\\programs\\python\\python38\\lib\\site-packages (from tensorboard>=2.9.1->snorkel) (0.6.1)\n",
      "Requirement already satisfied: absl-py>=0.4 in c:\\users\\ballardn\\appdata\\local\\programs\\python\\python38\\lib\\site-packages (from tensorboard>=2.9.1->snorkel) (1.2.0)\n",
      "Requirement already satisfied: markdown>=2.6.8 in c:\\users\\ballardn\\appdata\\local\\programs\\python\\python38\\lib\\site-packages (from tensorboard>=2.9.1->snorkel) (3.4.1)\n",
      "Requirement already satisfied: requests<3,>=2.21.0 in c:\\users\\ballardn\\appdata\\local\\programs\\python\\python38\\lib\\site-packages (from tensorboard>=2.9.1->snorkel) (2.27.1)\n",
      "Requirement already satisfied: tensorboard-plugin-wit>=1.6.0 in c:\\users\\ballardn\\appdata\\local\\programs\\python\\python38\\lib\\site-packages (from tensorboard>=2.9.1->snorkel) (1.8.1)\n",
      "Requirement already satisfied: werkzeug>=1.0.1 in c:\\users\\ballardn\\appdata\\local\\programs\\python\\python38\\lib\\site-packages (from tensorboard>=2.9.1->snorkel) (2.2.2)\n",
      "Requirement already satisfied: google-auth<3,>=1.6.3 in c:\\users\\ballardn\\appdata\\local\\programs\\python\\python38\\lib\\site-packages (from tensorboard>=2.9.1->snorkel) (2.11.0)\n",
      "Requirement already satisfied: typing-extensions in c:\\users\\ballardn\\appdata\\local\\programs\\python\\python38\\lib\\site-packages (from torch>=1.2.0->snorkel) (4.3.0)\n",
      "Requirement already satisfied: colorama in c:\\users\\ballardn\\appdata\\local\\programs\\python\\python38\\lib\\site-packages (from tqdm>=4.33.0->snorkel) (0.4.5)\n",
      "Requirement already satisfied: pyasn1-modules>=0.2.1 in c:\\users\\ballardn\\appdata\\local\\programs\\python\\python38\\lib\\site-packages (from google-auth<3,>=1.6.3->tensorboard>=2.9.1->snorkel) (0.2.8)\n",
      "Requirement already satisfied: rsa<5,>=3.1.4 in c:\\users\\ballardn\\appdata\\local\\programs\\python\\python38\\lib\\site-packages (from google-auth<3,>=1.6.3->tensorboard>=2.9.1->snorkel) (4.9)\n",
      "Requirement already satisfied: cachetools<6.0,>=2.0.0 in c:\\users\\ballardn\\appdata\\local\\programs\\python\\python38\\lib\\site-packages (from google-auth<3,>=1.6.3->tensorboard>=2.9.1->snorkel) (5.2.0)\n",
      "Requirement already satisfied: six>=1.9.0 in c:\\users\\ballardn\\appdata\\local\\programs\\python\\python38\\lib\\site-packages (from google-auth<3,>=1.6.3->tensorboard>=2.9.1->snorkel) (1.16.0)\n",
      "Requirement already satisfied: requests-oauthlib>=0.7.0 in c:\\users\\ballardn\\appdata\\local\\programs\\python\\python38\\lib\\site-packages (from google-auth-oauthlib<0.5,>=0.4.1->tensorboard>=2.9.1->snorkel) (1.3.1)\n",
      "Requirement already satisfied: importlib-metadata>=4.4 in c:\\users\\ballardn\\appdata\\local\\programs\\python\\python38\\lib\\site-packages (from markdown>=2.6.8->tensorboard>=2.9.1->snorkel) (4.12.0)\n",
      "Requirement already satisfied: certifi>=2017.4.17 in c:\\users\\ballardn\\appdata\\local\\programs\\python\\python38\\lib\\site-packages (from requests<3,>=2.21.0->tensorboard>=2.9.1->snorkel) (2022.5.18.1)\n",
      "Requirement already satisfied: urllib3<1.27,>=1.21.1 in c:\\users\\ballardn\\appdata\\local\\programs\\python\\python38\\lib\\site-packages (from requests<3,>=2.21.0->tensorboard>=2.9.1->snorkel) (1.26.9)\n",
      "Requirement already satisfied: charset-normalizer~=2.0.0 in c:\\users\\ballardn\\appdata\\local\\programs\\python\\python38\\lib\\site-packages (from requests<3,>=2.21.0->tensorboard>=2.9.1->snorkel) (2.0.12)\n",
      "Requirement already satisfied: idna<4,>=2.5 in c:\\users\\ballardn\\appdata\\local\\programs\\python\\python38\\lib\\site-packages (from requests<3,>=2.21.0->tensorboard>=2.9.1->snorkel) (3.3)\n",
      "Requirement already satisfied: MarkupSafe>=2.1.1 in c:\\users\\ballardn\\appdata\\local\\programs\\python\\python38\\lib\\site-packages (from werkzeug>=1.0.1->tensorboard>=2.9.1->snorkel) (2.1.1)\n",
      "Requirement already satisfied: zipp>=0.5 in c:\\users\\ballardn\\appdata\\local\\programs\\python\\python38\\lib\\site-packages (from importlib-metadata>=4.4->markdown>=2.6.8->tensorboard>=2.9.1->snorkel) (3.8.1)\n",
      "Requirement already satisfied: pyasn1<0.5.0,>=0.4.6 in c:\\users\\ballardn\\appdata\\local\\programs\\python\\python38\\lib\\site-packages (from pyasn1-modules>=0.2.1->google-auth<3,>=1.6.3->tensorboard>=2.9.1->snorkel) (0.4.8)\n",
      "Requirement already satisfied: oauthlib>=3.0.0 in c:\\users\\ballardn\\appdata\\local\\programs\\python\\python38\\lib\\site-packages (from requests-oauthlib>=0.7.0->google-auth-oauthlib<0.5,>=0.4.1->tensorboard>=2.9.1->snorkel) (3.2.0)\n"
     ]
    }
   ],
   "source": [
    "!pip install snorkel"
   ],
   "metadata": {
    "collapsed": false
   }
  },
  {
   "cell_type": "markdown",
   "id": "4df8e7c2",
   "metadata": {},
   "source": [
    "# Load Data"
   ]
  },
  {
   "cell_type": "code",
   "execution_count": 2,
   "id": "1f434d7b",
   "metadata": {
    "ExecuteTime": {
     "end_time": "2022-01-30T20:54:10.410728Z",
     "start_time": "2022-01-30T20:54:10.145924Z"
    }
   },
   "outputs": [],
   "source": [
    "import pandas as pd"
   ]
  },
  {
   "cell_type": "code",
   "execution_count": 3,
   "id": "958e2d26",
   "metadata": {
    "ExecuteTime": {
     "end_time": "2022-01-30T20:54:13.659821Z",
     "start_time": "2022-01-30T20:54:10.584126Z"
    }
   },
   "outputs": [
    {
     "name": "stdout",
     "output_type": "stream",
     "text": [
      "       job_id                                        title  \\\n",
      "12276   12277                             Big Data Analyst   \n",
      "14680   14681                      Instructional Advocate    \n",
      "16518   16519                           Software Developer   \n",
      "15478   15479                          Internship in India   \n",
      "16348   16349    Web Developer Backend Microservices (m/f)   \n",
      "...       ...                                          ...   \n",
      "9225     9226  Senior Tax Professional for Product Manager   \n",
      "13123   13124                                  QA Engineer   \n",
      "9845     9846                          Senior QA Engineer    \n",
      "10799   10800                   Customer Service Associate   \n",
      "2732     2733     Peoplesoft HCM Lead - Programmer/Analyst   \n",
      "\n",
      "                    location              department   salary_range  \\\n",
      "12276        GB, WSM, London             Product Ops            NaN   \n",
      "14680       US, GA, Savannah                     NaN            NaN   \n",
      "16518    US, FL, Gainesville                     NaN            NaN   \n",
      "15478        IN, , Bangalore                     NaN            NaN   \n",
      "16348          DE, BE, 10969             Engineering            NaN   \n",
      "...                      ...                     ...            ...   \n",
      "9225   US, CA, San Francisco                 Product  100000-150000   \n",
      "13123      US, CA, San Mateo                     NaN            NaN   \n",
      "9845         IN, , Hyderabad  Information Technology            NaN   \n",
      "10799       US, CT, Hartford                     NaN            NaN   \n",
      "2732    US, PA, Philadelphia                     NaN            NaN   \n",
      "\n",
      "                                         company_profile  \\\n",
      "12276  Founded in 2010 by a team from Google’s London...   \n",
      "14680  We are an after-school program committed to as...   \n",
      "16518  352 Inc. is a full-service digital agency crea...   \n",
      "15478                                                      \n",
      "16348  airfy prägt sicheres und einfach zu bedienende...   \n",
      "...                                                  ...   \n",
      "9225   Balanced Labs exists to provide accountants an...   \n",
      "13123  Tile is one of the most successful crowd-funde...   \n",
      "9845   #url_ddb080358fa5eecf5a67c649cfb4ffc343c484389...   \n",
      "10799  Novitex Enterprise Solutions, formerly Pitney ...   \n",
      "2732                                                       \n",
      "\n",
      "                                             description  \\\n",
      "12276  Qubit: Cutting Edge Big Data EngineeringQubit ...   \n",
      "14680  21st Century Community Learning Centers is an ...   \n",
      "16518  We partner with great clients to build smart s...   \n",
      "15478  London is a fast paced city of culture, divers...   \n",
      "16348  Design and develop a microservice platform for...   \n",
      "...                                                  ...   \n",
      "9225   Never before has a job in tax looked more inte...   \n",
      "13123  The RoleHere at Tile, we are looking for a sma...   \n",
      "9845   Responsibilities:* Acquire and maintain a comp...   \n",
      "10799  We are currently seeking a Customer Service As...   \n",
      "2732   POSITION OVERVIEW:This position is responsible...   \n",
      "\n",
      "                                            requirements  \\\n",
      "12276  What you'll need: A background in consulting, ...   \n",
      "14680  Bachelor's Degree or an Associate's Degree; or...   \n",
      "16518  3-5 years of great c# work Experience in mvc o...   \n",
      "15478                                                      \n",
      "16348  Senior level experience with web backends, esp...   \n",
      "...                                                  ...   \n",
      "9225   10+ years tax experience. Extensive knowledge ...   \n",
      "13123  Mandatory Qualities Tech enthusiast, you love ...   \n",
      "9845   Required Skills and Experience: Minimum of fiv...   \n",
      "10799  Minimum Requirements: Minimum of 2 years custo...   \n",
      "2732   minimum qualifications: Bachelor's degree ( in...   \n",
      "\n",
      "                                                benefits  telecommuting  \\\n",
      "12276  Plenty of perks:As well as the opportunity to ...              0   \n",
      "14680                                                NaN              0   \n",
      "16518  What You’ll GetFreedom: We trust you to do you...              0   \n",
      "15478  As specialists in delivering high quality and ...              0   \n",
      "16348  Flat hierarchies and a productive work environ...              0   \n",
      "...                                                  ...            ...   \n",
      "9225                                                 NaN              0   \n",
      "13123  Own equity in the company. Every employee is a...              0   \n",
      "9845   What Is OfferedOur client's core values drive ...              0   \n",
      "10799                                                NaN              0   \n",
      "2732   My client company is a well established organi...              0   \n",
      "\n",
      "       has_company_logo  has_questions employment_type required_experience  \\\n",
      "12276                 1              1       Full-time           Associate   \n",
      "14680                 1              0       Part-time                 NaN   \n",
      "16518                 1              0       Full-time    Mid-Senior level   \n",
      "15478                 1              0             NaN                 NaN   \n",
      "16348                 1              0       Full-time           Associate   \n",
      "...                 ...            ...             ...                 ...   \n",
      "9225                  1              1       Full-time            Director   \n",
      "13123                 1              0       Full-time           Associate   \n",
      "9845                  1              1       Full-time    Mid-Senior level   \n",
      "10799                 1              0       Full-time         Entry level   \n",
      "2732                  0              1             NaN                 NaN   \n",
      "\n",
      "              required_education                   industry  \\\n",
      "12276          Bachelor's Degree                   Internet   \n",
      "14680                        NaN                        NaN   \n",
      "16518                        NaN          Computer Software   \n",
      "15478                        NaN                        NaN   \n",
      "16348          Bachelor's Degree                   Internet   \n",
      "...                          ...                        ...   \n",
      "9225           Bachelor's Degree                 Accounting   \n",
      "13123          Bachelor's Degree       Consumer Electronics   \n",
      "9845           Bachelor's Degree  Marketing and Advertising   \n",
      "10799  High School or equivalent        Facilities Services   \n",
      "2732                         NaN                        NaN   \n",
      "\n",
      "                     function  fraudulent  \n",
      "12276      Product Management           0  \n",
      "14680               Education           0  \n",
      "16518  Information Technology           0  \n",
      "15478                     NaN           0  \n",
      "16348             Engineering           0  \n",
      "...                       ...         ...  \n",
      "9225        Strategy/Planning           0  \n",
      "13123             Engineering           0  \n",
      "9845              Engineering           1  \n",
      "10799        Customer Service           0  \n",
      "2732                      NaN           0  \n",
      "\n",
      "[13410 rows x 18 columns]\n"
     ]
    }
   ],
   "source": [
    "train_df = pd.read_pickle(\n",
    "    \"./data/train_fake_jobs.pkl\"\n",
    ")\n",
    "test_df = pd.read_pickle(\n",
    "    \"./data/test_fake_jobs.pkl\"\n",
    ")\n",
    "print(train_df)"
   ]
  },
  {
   "cell_type": "markdown",
   "id": "a59db019",
   "metadata": {},
   "source": [
    "# Create Labeling Functions"
   ]
  },
  {
   "cell_type": "code",
   "execution_count": 5,
   "id": "e61a588c",
   "metadata": {
    "ExecuteTime": {
     "end_time": "2022-01-30T20:54:14.136365Z",
     "start_time": "2022-01-30T20:54:13.661104Z"
    }
   },
   "outputs": [],
   "source": [
    "from snorkel.labeling import labeling_function\n",
    "from snorkel.labeling import PandasLFApplier\n",
    "from snorkel.labeling import LFAnalysis"
   ]
  },
  {
   "cell_type": "code",
   "execution_count": 6,
   "id": "7053a107",
   "metadata": {
    "ExecuteTime": {
     "end_time": "2022-01-30T20:54:14.139245Z",
     "start_time": "2022-01-30T20:54:14.137222Z"
    }
   },
   "outputs": [],
   "source": [
    "FAKE = 1\n",
    "REAL = 0\n",
    "ABSTAIN = -1"
   ]
  },
  {
   "cell_type": "code",
   "execution_count": 7,
   "id": "968da2c3",
   "metadata": {
    "ExecuteTime": {
     "end_time": "2022-01-30T20:54:14.144229Z",
     "start_time": "2022-01-30T20:54:14.140677Z"
    }
   },
   "outputs": [],
   "source": [
    "FAKE_COMPANIES = [\n",
    "    \"Aker Solutions\",\n",
    "    \"Aptitude Staffing Solutions\",\n",
    "    \"Gary Cartwright\",\n",
    "    \"Edison International and Refined Resources\",\n",
    "    \"Le Meridien\",\n",
    "]"
   ]
  },
  {
   "cell_type": "code",
   "execution_count": 8,
   "id": "28d286e5",
   "metadata": {
    "ExecuteTime": {
     "end_time": "2022-01-30T20:54:15.165300Z",
     "start_time": "2022-01-30T20:54:15.160110Z"
    }
   },
   "outputs": [],
   "source": [
    "@labeling_function()\n",
    "def no_requirements(x: pd.Series):\n",
    "\n",
    "    return FAKE if x.requirements == \"\" else ABSTAIN\n",
    "\n",
    "\n",
    "@labeling_function()\n",
    "def requirements_less_than_10(x: pd.Series):\n",
    "    num_words = len(x.requirements.split(\" \"))\n",
    "    return FAKE if num_words <= 10 else ABSTAIN\n",
    "\n",
    "\n",
    "@labeling_function()\n",
    "def requirements_less_than_20(x: pd.Series):\n",
    "    num_words = len(x.requirements.split(\" \"))\n",
    "    return FAKE if num_words <= 20 else ABSTAIN\n",
    "\n",
    "\n",
    "@labeling_function()\n",
    "def no_company_profile(x: pd.Series):\n",
    "    return FAKE if x.company_profile == \"\" else ABSTAIN\n",
    "\n",
    "\n",
    "@labeling_function()\n",
    "def no_company_logo(x: pd.Series):\n",
    "    return FAKE if x.has_company_logo == 0 else ABSTAIN\n",
    "\n",
    "\n",
    "@labeling_function()\n",
    "def suspicious_company(x: pd.Series):\n",
    "    return (\n",
    "        FAKE\n",
    "        if any(\n",
    "            company.lower() in x.company_profile.lower() for company in FAKE_COMPANIES\n",
    "        )\n",
    "        else ABSTAIN\n",
    "    )\n",
    "\n",
    "\n",
    "@labeling_function()\n",
    "def has_background_check(x: pd.Series):\n",
    "    return REAL if \"background check\" in x.requirements else ABSTAIN\n",
    "\n",
    "\n",
    "@labeling_function()\n",
    "def required_experience(x: pd.Series):\n",
    "    return REAL if pd.notna(x.required_experience) else ABSTAIN\n",
    "\n",
    "\n",
    "@labeling_function()\n",
    "def required_education(x: pd.Series):\n",
    "    return REAL if pd.notna(x.required_education) else ABSTAIN"
   ]
  },
  {
   "cell_type": "markdown",
   "id": "c814465d",
   "metadata": {},
   "source": [
    "# Apply Labeling Functions to the Data"
   ]
  },
  {
   "cell_type": "code",
   "execution_count": 9,
   "id": "84fbfc7b",
   "metadata": {
    "ExecuteTime": {
     "end_time": "2022-01-29T16:56:00.839037Z",
     "start_time": "2022-01-29T16:55:59.915434Z"
    }
   },
   "outputs": [
    {
     "name": "stderr",
     "output_type": "stream",
     "text": [
      "100%|██████████| 13410/13410 [00:01<00:00, 6911.58it/s]\n"
     ]
    }
   ],
   "source": [
    "lfs = [\n",
    "    no_company_profile,\n",
    "    suspicious_company,\n",
    "    no_company_logo,\n",
    "    has_background_check,\n",
    "    required_experience,\n",
    "    required_education,\n",
    "]\n",
    "\n",
    "applier = PandasLFApplier(lfs=lfs)\n",
    "L_train = applier.apply(df=train_df)"
   ]
  },
  {
   "cell_type": "markdown",
   "id": "79d0ee33",
   "metadata": {},
   "source": [
    "# Evaluate Labeling Functions"
   ]
  },
  {
   "cell_type": "code",
   "execution_count": 10,
   "id": "77cef65f",
   "metadata": {
    "ExecuteTime": {
     "end_time": "2022-01-29T16:56:00.895079Z",
     "start_time": "2022-01-29T16:56:00.840064Z"
    }
   },
   "outputs": [
    {
     "data": {
      "text/plain": "                      j Polarity  Coverage  Overlaps  Conflicts  Correct  \\\nno_company_profile    0      [1]  0.186204  0.170694   0.110365      459   \nsuspicious_company    1      [1]  0.006861  0.005667   0.005667       92   \nno_company_logo       2      [1]  0.205742  0.161894   0.101566      459   \nhas_background_check  3      [0]  0.035496  0.032438   0.002759      464   \nrequired_experience   4      [0]  0.607010  0.507755   0.119165     7809   \nrequired_education    5      [0]  0.551603  0.489485   0.101790     7075   \n\n                      Incorrect  Emp. Acc.  \nno_company_profile         2038   0.183821  \nsuspicious_company            0   1.000000  \nno_company_logo            2300   0.166365  \nhas_background_check         12   0.974790  \nrequired_experience         331   0.959337  \nrequired_education          322   0.956469  ",
      "text/html": "<div>\n<style scoped>\n    .dataframe tbody tr th:only-of-type {\n        vertical-align: middle;\n    }\n\n    .dataframe tbody tr th {\n        vertical-align: top;\n    }\n\n    .dataframe thead th {\n        text-align: right;\n    }\n</style>\n<table border=\"1\" class=\"dataframe\">\n  <thead>\n    <tr style=\"text-align: right;\">\n      <th></th>\n      <th>j</th>\n      <th>Polarity</th>\n      <th>Coverage</th>\n      <th>Overlaps</th>\n      <th>Conflicts</th>\n      <th>Correct</th>\n      <th>Incorrect</th>\n      <th>Emp. Acc.</th>\n    </tr>\n  </thead>\n  <tbody>\n    <tr>\n      <th>no_company_profile</th>\n      <td>0</td>\n      <td>[1]</td>\n      <td>0.186204</td>\n      <td>0.170694</td>\n      <td>0.110365</td>\n      <td>459</td>\n      <td>2038</td>\n      <td>0.183821</td>\n    </tr>\n    <tr>\n      <th>suspicious_company</th>\n      <td>1</td>\n      <td>[1]</td>\n      <td>0.006861</td>\n      <td>0.005667</td>\n      <td>0.005667</td>\n      <td>92</td>\n      <td>0</td>\n      <td>1.000000</td>\n    </tr>\n    <tr>\n      <th>no_company_logo</th>\n      <td>2</td>\n      <td>[1]</td>\n      <td>0.205742</td>\n      <td>0.161894</td>\n      <td>0.101566</td>\n      <td>459</td>\n      <td>2300</td>\n      <td>0.166365</td>\n    </tr>\n    <tr>\n      <th>has_background_check</th>\n      <td>3</td>\n      <td>[0]</td>\n      <td>0.035496</td>\n      <td>0.032438</td>\n      <td>0.002759</td>\n      <td>464</td>\n      <td>12</td>\n      <td>0.974790</td>\n    </tr>\n    <tr>\n      <th>required_experience</th>\n      <td>4</td>\n      <td>[0]</td>\n      <td>0.607010</td>\n      <td>0.507755</td>\n      <td>0.119165</td>\n      <td>7809</td>\n      <td>331</td>\n      <td>0.959337</td>\n    </tr>\n    <tr>\n      <th>required_education</th>\n      <td>5</td>\n      <td>[0]</td>\n      <td>0.551603</td>\n      <td>0.489485</td>\n      <td>0.101790</td>\n      <td>7075</td>\n      <td>322</td>\n      <td>0.956469</td>\n    </tr>\n  </tbody>\n</table>\n</div>"
     },
     "execution_count": 10,
     "metadata": {},
     "output_type": "execute_result"
    }
   ],
   "source": [
    "LFAnalysis(L=L_train, lfs=lfs).lf_summary(Y=train_df.fraudulent.values)"
   ]
  },
  {
   "cell_type": "markdown",
   "id": "6bda30b0",
   "metadata": {},
   "source": [
    "## Evaluate Conflicts"
   ]
  },
  {
   "cell_type": "code",
   "execution_count": 11,
   "id": "f125bae8",
   "metadata": {
    "ExecuteTime": {
     "end_time": "2022-01-29T16:56:00.911079Z",
     "start_time": "2022-01-29T16:56:00.895810Z"
    }
   },
   "outputs": [
    {
     "data": {
      "text/plain": "       has_company_logo required_experience  fraudulent\n16877                 0    Mid-Senior level           0\n17068                 0    Mid-Senior level           0\n16816                 0    Mid-Senior level           0\n12186                 0      Not Applicable           0\n16808                 0    Mid-Senior level           0\n678                   0      Not Applicable           0\n3706                  0         Entry level           0\n14150                 0         Entry level           0\n2199                  0         Entry level           0\n4411                  0         Entry level           0",
      "text/html": "<div>\n<style scoped>\n    .dataframe tbody tr th:only-of-type {\n        vertical-align: middle;\n    }\n\n    .dataframe tbody tr th {\n        vertical-align: top;\n    }\n\n    .dataframe thead th {\n        text-align: right;\n    }\n</style>\n<table border=\"1\" class=\"dataframe\">\n  <thead>\n    <tr style=\"text-align: right;\">\n      <th></th>\n      <th>has_company_logo</th>\n      <th>required_experience</th>\n      <th>fraudulent</th>\n    </tr>\n  </thead>\n  <tbody>\n    <tr>\n      <th>16877</th>\n      <td>0</td>\n      <td>Mid-Senior level</td>\n      <td>0</td>\n    </tr>\n    <tr>\n      <th>17068</th>\n      <td>0</td>\n      <td>Mid-Senior level</td>\n      <td>0</td>\n    </tr>\n    <tr>\n      <th>16816</th>\n      <td>0</td>\n      <td>Mid-Senior level</td>\n      <td>0</td>\n    </tr>\n    <tr>\n      <th>12186</th>\n      <td>0</td>\n      <td>Not Applicable</td>\n      <td>0</td>\n    </tr>\n    <tr>\n      <th>16808</th>\n      <td>0</td>\n      <td>Mid-Senior level</td>\n      <td>0</td>\n    </tr>\n    <tr>\n      <th>678</th>\n      <td>0</td>\n      <td>Not Applicable</td>\n      <td>0</td>\n    </tr>\n    <tr>\n      <th>3706</th>\n      <td>0</td>\n      <td>Entry level</td>\n      <td>0</td>\n    </tr>\n    <tr>\n      <th>14150</th>\n      <td>0</td>\n      <td>Entry level</td>\n      <td>0</td>\n    </tr>\n    <tr>\n      <th>2199</th>\n      <td>0</td>\n      <td>Entry level</td>\n      <td>0</td>\n    </tr>\n    <tr>\n      <th>4411</th>\n      <td>0</td>\n      <td>Entry level</td>\n      <td>0</td>\n    </tr>\n  </tbody>\n</table>\n</div>"
     },
     "execution_count": 11,
     "metadata": {},
     "output_type": "execute_result"
    }
   ],
   "source": [
    "from snorkel.analysis import get_label_buckets\n",
    "\n",
    "buckets = get_label_buckets(L_train[:, 2], L_train[:, 4])\n",
    "\n",
    "res = train_df.iloc[buckets[(FAKE, REAL)]].sample(10, random_state=1)[\n",
    "    [\"has_company_logo\", \"required_experience\", \"fraudulent\"]\n",
    "]\n",
    "\n",
    "res"
   ]
  },
  {
   "cell_type": "markdown",
   "id": "7719b091",
   "metadata": {},
   "source": [
    "# Combine Predictions"
   ]
  },
  {
   "cell_type": "markdown",
   "id": "361af62b",
   "metadata": {},
   "source": [
    "## MajorityLabelVoter"
   ]
  },
  {
   "cell_type": "code",
   "execution_count": 12,
   "id": "e0a76c03",
   "metadata": {
    "ExecuteTime": {
     "end_time": "2022-01-29T16:56:01.062252Z",
     "start_time": "2022-01-29T16:56:00.911815Z"
    }
   },
   "outputs": [],
   "source": [
    "from snorkel.labeling.model import MajorityLabelVoter\n",
    "\n",
    "majority_model = MajorityLabelVoter()\n",
    "preds_train = majority_model.predict(L=L_train)"
   ]
  },
  {
   "cell_type": "markdown",
   "id": "9476c6af",
   "metadata": {},
   "source": [
    "## LabelModel"
   ]
  },
  {
   "cell_type": "code",
   "execution_count": 13,
   "id": "2878b33b",
   "metadata": {
    "ExecuteTime": {
     "end_time": "2022-01-29T17:31:06.819288Z",
     "start_time": "2022-01-29T17:31:06.490833Z"
    }
   },
   "outputs": [
    {
     "name": "stderr",
     "output_type": "stream",
     "text": [
      "INFO:root:Computing O...\n",
      "INFO:root:Estimating \\mu...\n",
      "  0%|          | 0/500 [00:00<?, ?epoch/s]INFO:root:[0 epochs]: TRAIN:[loss=0.841]\n",
      " 18%|█▊        | 90/500 [00:00<00:00, 898.72epoch/s]INFO:root:[100 epochs]: TRAIN:[loss=0.012]\n",
      " 38%|███▊      | 192/500 [00:00<00:00, 969.60epoch/s]INFO:root:[200 epochs]: TRAIN:[loss=0.011]\n",
      "INFO:root:[300 epochs]: TRAIN:[loss=0.010]\n",
      " 60%|██████    | 301/500 [00:00<00:00, 1024.34epoch/s]INFO:root:[400 epochs]: TRAIN:[loss=0.010]\n",
      "100%|██████████| 500/500 [00:00<00:00, 1014.53epoch/s]\n",
      "INFO:root:Finished Training\n"
     ]
    }
   ],
   "source": [
    "from snorkel.labeling.model import LabelModel\n",
    "\n",
    "label_model = LabelModel(cardinality=2, verbose=True)\n",
    "label_model.fit(L_train=L_train, n_epochs=500, log_freq=100, seed=1)\n"
   ]
  },
  {
   "cell_type": "code",
   "execution_count": 14,
   "id": "e620fa49",
   "metadata": {
    "ExecuteTime": {
     "end_time": "2022-01-29T16:56:01.634273Z",
     "start_time": "2022-01-29T16:56:01.311516Z"
    }
   },
   "outputs": [
    {
     "name": "stderr",
     "output_type": "stream",
     "text": [
      "100%|██████████| 4470/4470 [00:00<00:00, 7315.75it/s]\n"
     ]
    }
   ],
   "source": [
    "L_test = applier.apply(df=test_df)"
   ]
  },
  {
   "cell_type": "code",
   "execution_count": 15,
   "id": "47337f19",
   "metadata": {
    "ExecuteTime": {
     "end_time": "2022-01-29T16:56:01.639036Z",
     "start_time": "2022-01-29T16:56:01.635129Z"
    }
   },
   "outputs": [],
   "source": [
    "Y_train = train_df[\"fraudulent\"]\n",
    "Y_test = test_df[\"fraudulent\"]"
   ]
  },
  {
   "cell_type": "code",
   "execution_count": 16,
   "id": "36b5ece3",
   "metadata": {
    "ExecuteTime": {
     "end_time": "2022-01-29T16:56:01.700819Z",
     "start_time": "2022-01-29T16:56:01.639941Z"
    }
   },
   "outputs": [
    {
     "name": "stderr",
     "output_type": "stream",
     "text": [
      "WARNING:root:Metrics calculated over data points with non-abstain labels only\n"
     ]
    },
    {
     "name": "stdout",
     "output_type": "stream",
     "text": [
      "Majority Vote Accuracy:   80.8%\n"
     ]
    }
   ],
   "source": [
    "majority_acc = majority_model.score(\n",
    "    L=L_test,\n",
    "    Y=Y_test,\n",
    ")[\"accuracy\"]\n",
    "print(f\"{'Majority Vote Accuracy:':<25} {majority_acc * 100:.1f}%\")"
   ]
  },
  {
   "cell_type": "code",
   "execution_count": 17,
   "id": "42dbb8c6",
   "metadata": {
    "ExecuteTime": {
     "end_time": "2022-01-29T16:56:01.726435Z",
     "start_time": "2022-01-29T16:56:01.701555Z"
    }
   },
   "outputs": [
    {
     "name": "stderr",
     "output_type": "stream",
     "text": [
      "WARNING:root:Metrics calculated over data points with non-abstain labels only\n"
     ]
    },
    {
     "name": "stdout",
     "output_type": "stream",
     "text": [
      "Label Model Accuracy:     71.9%\n"
     ]
    }
   ],
   "source": [
    "label_model_acc = label_model.score(L=L_test, Y=Y_test)[\"accuracy\"]\n",
    "print(f\"{'Label Model Accuracy:':<25} {label_model_acc * 100:.1f}%\")"
   ]
  }
 ],
 "metadata": {
  "kernelspec": {
   "display_name": "Python 3 (ipykernel)",
   "language": "python",
   "name": "python3"
  },
  "language_info": {
   "codemirror_mode": {
    "name": "ipython",
    "version": 3
   },
   "file_extension": ".py",
   "mimetype": "text/x-python",
   "name": "python",
   "nbconvert_exporter": "python",
   "pygments_lexer": "ipython3",
   "version": "3.8.10"
  },
  "toc": {
   "base_numbering": 1,
   "nav_menu": {},
   "number_sections": true,
   "sideBar": true,
   "skip_h1_title": false,
   "title_cell": "Table of Contents",
   "title_sidebar": "Contents",
   "toc_cell": false,
   "toc_position": {},
   "toc_section_display": true,
   "toc_window_display": false
  }
 },
 "nbformat": 4,
 "nbformat_minor": 5
}
